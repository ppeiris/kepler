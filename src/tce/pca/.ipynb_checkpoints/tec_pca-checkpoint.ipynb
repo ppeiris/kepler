{
 "cells": [
  {
   "cell_type": "markdown",
   "metadata": {
    "toc": "true"
   },
   "source": [
    "# Table of Contents\n",
    " <p><div class=\"lev1\"><a href=\"#Principal-Component-Analysis-on-Threshold-Crossing-Events-(PCA-on-TCE-Data)\"><span class=\"toc-item-num\">1&nbsp;&nbsp;</span>Principal Component Analysis on Threshold Crossing Events (PCA on TCE Data)</a></div><div class=\"lev2\"><a href=\"#Load-Column-Names\"><span class=\"toc-item-num\">1.1&nbsp;&nbsp;</span>Load Column Names</a></div><div class=\"lev2\"><a href=\"#Load-TCE-Data\"><span class=\"toc-item-num\">1.2&nbsp;&nbsp;</span>Load TCE Data</a></div><div class=\"lev2\"><a href=\"#Drop-all-the-NaN-columns\"><span class=\"toc-item-num\">1.3&nbsp;&nbsp;</span>Drop all the NaN columns</a></div><div class=\"lev1\"><a href=\"#PCA\"><span class=\"toc-item-num\">2&nbsp;&nbsp;</span>PCA</a></div>"
   ]
  },
  {
   "cell_type": "markdown",
   "metadata": {
    "collapsed": true
   },
   "source": [
    "# Principal Component Analysis on Threshold Crossing Events (PCA on TCE Data)"
   ]
  },
  {
   "cell_type": "code",
   "execution_count": 2,
   "metadata": {
    "collapsed": false
   },
   "outputs": [],
   "source": [
    "import pandas as pd\n",
    "import numpy as np\n",
    "%matplotlib inline\n",
    "import matplotlib\n",
    "import matplotlib.pyplot as plt\n",
    "from sklearn.decomposition import PCA\n",
    "from IPython.display import display, HTML\n",
    "from sympy import init_printing, Matrix, symbols, sqrt\n",
    "from sklearn.preprocessing import StandardScaler\n",
    "from sklearn.preprocessing import scale\n",
    "init_printing(use_latex = 'mathjax')\n",
    "# pd.set_option('max_columns', 50)\n",
    "# pd.set_option('max_rows', 10)"
   ]
  },
  {
   "cell_type": "code",
   "execution_count": 3,
   "metadata": {
    "collapsed": true
   },
   "outputs": [],
   "source": [
    "pd.set_option('display.max_rows', 20)\n",
    "pd.set_option('display.max_columns', 18)\n",
    "pd.set_option('display.width', 500)"
   ]
  },
  {
   "cell_type": "code",
   "execution_count": 4,
   "metadata": {
    "collapsed": true
   },
   "outputs": [],
   "source": [
    "%qtconsole"
   ]
  },
  {
   "cell_type": "markdown",
   "metadata": {},
   "source": [
    "## Load Column Names\n",
    "\n",
    "TCE parameters are in the tec_cols.csv file. The parameters are used in the calculations are uncommented"
   ]
  },
  {
   "cell_type": "code",
   "execution_count": 8,
   "metadata": {
    "collapsed": false,
    "scrolled": false
   },
   "outputs": [
    {
     "ename": "IOError",
     "evalue": "File ../../data/raw/tce/tce_cols.csv does not exist",
     "output_type": "error",
     "traceback": [
      "\u001b[1;31m---------------------------------------------------------------------------\u001b[0m",
      "\u001b[1;31mIOError\u001b[0m                                   Traceback (most recent call last)",
      "\u001b[1;32m<ipython-input-8-2fdd2a4dfbd2>\u001b[0m in \u001b[0;36m<module>\u001b[1;34m()\u001b[0m\n\u001b[1;32m----> 1\u001b[1;33m \u001b[0mtceColDescriptions_tmp\u001b[0m \u001b[1;33m=\u001b[0m \u001b[0mpd\u001b[0m\u001b[1;33m.\u001b[0m\u001b[0mread_table\u001b[0m\u001b[1;33m(\u001b[0m\u001b[1;34m\"../../data/raw/tce/tce_cols.csv\"\u001b[0m\u001b[1;33m,\u001b[0m \u001b[0mcomment\u001b[0m\u001b[1;33m=\u001b[0m\u001b[1;34m\"#\"\u001b[0m\u001b[1;33m)\u001b[0m\u001b[1;33m\u001b[0m\u001b[0m\n\u001b[0m\u001b[0;32m      2\u001b[0m tceColDescriptions = tceColDescriptions_tmp.rename(columns={\n\u001b[0;32m      3\u001b[0m         \u001b[0mtceColDescriptions_tmp\u001b[0m\u001b[1;33m.\u001b[0m\u001b[0mcolumns\u001b[0m\u001b[1;33m[\u001b[0m\u001b[1;36m0\u001b[0m\u001b[1;33m]\u001b[0m\u001b[1;33m:\u001b[0m \u001b[1;34m'data'\u001b[0m\u001b[1;33m\u001b[0m\u001b[0m\n\u001b[0;32m      4\u001b[0m     })\n\u001b[0;32m      5\u001b[0m \u001b[0mtceColDescriptions\u001b[0m\u001b[1;33m[\u001b[0m\u001b[1;34m'parameter'\u001b[0m\u001b[1;33m]\u001b[0m \u001b[1;33m=\u001b[0m \u001b[0mtceColDescriptions\u001b[0m\u001b[1;33m.\u001b[0m\u001b[0mdata\u001b[0m\u001b[1;33m.\u001b[0m\u001b[0mapply\u001b[0m\u001b[1;33m(\u001b[0m\u001b[1;32mlambda\u001b[0m \u001b[0mx\u001b[0m\u001b[1;33m:\u001b[0m \u001b[0mx\u001b[0m\u001b[1;33m.\u001b[0m\u001b[0msplit\u001b[0m\u001b[1;33m(\u001b[0m\u001b[1;34m':'\u001b[0m\u001b[1;33m)\u001b[0m\u001b[1;33m[\u001b[0m\u001b[1;36m0\u001b[0m\u001b[1;33m]\u001b[0m\u001b[1;33m)\u001b[0m\u001b[1;33m\u001b[0m\u001b[0m\n",
      "\u001b[1;32m/home/ppeiris/anaconda3/envs/udacity_mlnd/lib/python2.7/site-packages/pandas/io/parsers.pyc\u001b[0m in \u001b[0;36mparser_f\u001b[1;34m(filepath_or_buffer, sep, delimiter, header, names, index_col, usecols, squeeze, prefix, mangle_dupe_cols, dtype, engine, converters, true_values, false_values, skipinitialspace, skiprows, skipfooter, nrows, na_values, keep_default_na, na_filter, verbose, skip_blank_lines, parse_dates, infer_datetime_format, keep_date_col, date_parser, dayfirst, iterator, chunksize, compression, thousands, decimal, lineterminator, quotechar, quoting, escapechar, comment, encoding, dialect, tupleize_cols, error_bad_lines, warn_bad_lines, skip_footer, doublequote, delim_whitespace, as_recarray, compact_ints, use_unsigned, low_memory, buffer_lines, memory_map, float_precision)\u001b[0m\n\u001b[0;32m    527\u001b[0m                     skip_blank_lines=skip_blank_lines)\n\u001b[0;32m    528\u001b[0m \u001b[1;33m\u001b[0m\u001b[0m\n\u001b[1;32m--> 529\u001b[1;33m         \u001b[1;32mreturn\u001b[0m \u001b[0m_read\u001b[0m\u001b[1;33m(\u001b[0m\u001b[0mfilepath_or_buffer\u001b[0m\u001b[1;33m,\u001b[0m \u001b[0mkwds\u001b[0m\u001b[1;33m)\u001b[0m\u001b[1;33m\u001b[0m\u001b[0m\n\u001b[0m\u001b[0;32m    530\u001b[0m \u001b[1;33m\u001b[0m\u001b[0m\n\u001b[0;32m    531\u001b[0m     \u001b[0mparser_f\u001b[0m\u001b[1;33m.\u001b[0m\u001b[0m__name__\u001b[0m \u001b[1;33m=\u001b[0m \u001b[0mname\u001b[0m\u001b[1;33m\u001b[0m\u001b[0m\n",
      "\u001b[1;32m/home/ppeiris/anaconda3/envs/udacity_mlnd/lib/python2.7/site-packages/pandas/io/parsers.pyc\u001b[0m in \u001b[0;36m_read\u001b[1;34m(filepath_or_buffer, kwds)\u001b[0m\n\u001b[0;32m    293\u001b[0m \u001b[1;33m\u001b[0m\u001b[0m\n\u001b[0;32m    294\u001b[0m     \u001b[1;31m# Create the parser.\u001b[0m\u001b[1;33m\u001b[0m\u001b[1;33m\u001b[0m\u001b[0m\n\u001b[1;32m--> 295\u001b[1;33m     \u001b[0mparser\u001b[0m \u001b[1;33m=\u001b[0m \u001b[0mTextFileReader\u001b[0m\u001b[1;33m(\u001b[0m\u001b[0mfilepath_or_buffer\u001b[0m\u001b[1;33m,\u001b[0m \u001b[1;33m**\u001b[0m\u001b[0mkwds\u001b[0m\u001b[1;33m)\u001b[0m\u001b[1;33m\u001b[0m\u001b[0m\n\u001b[0m\u001b[0;32m    296\u001b[0m \u001b[1;33m\u001b[0m\u001b[0m\n\u001b[0;32m    297\u001b[0m     \u001b[1;32mif\u001b[0m \u001b[1;33m(\u001b[0m\u001b[0mnrows\u001b[0m \u001b[1;32mis\u001b[0m \u001b[1;32mnot\u001b[0m \u001b[0mNone\u001b[0m\u001b[1;33m)\u001b[0m \u001b[1;32mand\u001b[0m \u001b[1;33m(\u001b[0m\u001b[0mchunksize\u001b[0m \u001b[1;32mis\u001b[0m \u001b[1;32mnot\u001b[0m \u001b[0mNone\u001b[0m\u001b[1;33m)\u001b[0m\u001b[1;33m:\u001b[0m\u001b[1;33m\u001b[0m\u001b[0m\n",
      "\u001b[1;32m/home/ppeiris/anaconda3/envs/udacity_mlnd/lib/python2.7/site-packages/pandas/io/parsers.pyc\u001b[0m in \u001b[0;36m__init__\u001b[1;34m(self, f, engine, **kwds)\u001b[0m\n\u001b[0;32m    610\u001b[0m             \u001b[0mself\u001b[0m\u001b[1;33m.\u001b[0m\u001b[0moptions\u001b[0m\u001b[1;33m[\u001b[0m\u001b[1;34m'has_index_names'\u001b[0m\u001b[1;33m]\u001b[0m \u001b[1;33m=\u001b[0m \u001b[0mkwds\u001b[0m\u001b[1;33m[\u001b[0m\u001b[1;34m'has_index_names'\u001b[0m\u001b[1;33m]\u001b[0m\u001b[1;33m\u001b[0m\u001b[0m\n\u001b[0;32m    611\u001b[0m \u001b[1;33m\u001b[0m\u001b[0m\n\u001b[1;32m--> 612\u001b[1;33m         \u001b[0mself\u001b[0m\u001b[1;33m.\u001b[0m\u001b[0m_make_engine\u001b[0m\u001b[1;33m(\u001b[0m\u001b[0mself\u001b[0m\u001b[1;33m.\u001b[0m\u001b[0mengine\u001b[0m\u001b[1;33m)\u001b[0m\u001b[1;33m\u001b[0m\u001b[0m\n\u001b[0m\u001b[0;32m    613\u001b[0m \u001b[1;33m\u001b[0m\u001b[0m\n\u001b[0;32m    614\u001b[0m     \u001b[1;32mdef\u001b[0m \u001b[0m_get_options_with_defaults\u001b[0m\u001b[1;33m(\u001b[0m\u001b[0mself\u001b[0m\u001b[1;33m,\u001b[0m \u001b[0mengine\u001b[0m\u001b[1;33m)\u001b[0m\u001b[1;33m:\u001b[0m\u001b[1;33m\u001b[0m\u001b[0m\n",
      "\u001b[1;32m/home/ppeiris/anaconda3/envs/udacity_mlnd/lib/python2.7/site-packages/pandas/io/parsers.pyc\u001b[0m in \u001b[0;36m_make_engine\u001b[1;34m(self, engine)\u001b[0m\n\u001b[0;32m    745\u001b[0m     \u001b[1;32mdef\u001b[0m \u001b[0m_make_engine\u001b[0m\u001b[1;33m(\u001b[0m\u001b[0mself\u001b[0m\u001b[1;33m,\u001b[0m \u001b[0mengine\u001b[0m\u001b[1;33m=\u001b[0m\u001b[1;34m'c'\u001b[0m\u001b[1;33m)\u001b[0m\u001b[1;33m:\u001b[0m\u001b[1;33m\u001b[0m\u001b[0m\n\u001b[0;32m    746\u001b[0m         \u001b[1;32mif\u001b[0m \u001b[0mengine\u001b[0m \u001b[1;33m==\u001b[0m \u001b[1;34m'c'\u001b[0m\u001b[1;33m:\u001b[0m\u001b[1;33m\u001b[0m\u001b[0m\n\u001b[1;32m--> 747\u001b[1;33m             \u001b[0mself\u001b[0m\u001b[1;33m.\u001b[0m\u001b[0m_engine\u001b[0m \u001b[1;33m=\u001b[0m \u001b[0mCParserWrapper\u001b[0m\u001b[1;33m(\u001b[0m\u001b[0mself\u001b[0m\u001b[1;33m.\u001b[0m\u001b[0mf\u001b[0m\u001b[1;33m,\u001b[0m \u001b[1;33m**\u001b[0m\u001b[0mself\u001b[0m\u001b[1;33m.\u001b[0m\u001b[0moptions\u001b[0m\u001b[1;33m)\u001b[0m\u001b[1;33m\u001b[0m\u001b[0m\n\u001b[0m\u001b[0;32m    748\u001b[0m         \u001b[1;32melse\u001b[0m\u001b[1;33m:\u001b[0m\u001b[1;33m\u001b[0m\u001b[0m\n\u001b[0;32m    749\u001b[0m             \u001b[1;32mif\u001b[0m \u001b[0mengine\u001b[0m \u001b[1;33m==\u001b[0m \u001b[1;34m'python'\u001b[0m\u001b[1;33m:\u001b[0m\u001b[1;33m\u001b[0m\u001b[0m\n",
      "\u001b[1;32m/home/ppeiris/anaconda3/envs/udacity_mlnd/lib/python2.7/site-packages/pandas/io/parsers.pyc\u001b[0m in \u001b[0;36m__init__\u001b[1;34m(self, src, **kwds)\u001b[0m\n\u001b[0;32m   1117\u001b[0m         \u001b[0mkwds\u001b[0m\u001b[1;33m[\u001b[0m\u001b[1;34m'allow_leading_cols'\u001b[0m\u001b[1;33m]\u001b[0m \u001b[1;33m=\u001b[0m \u001b[0mself\u001b[0m\u001b[1;33m.\u001b[0m\u001b[0mindex_col\u001b[0m \u001b[1;32mis\u001b[0m \u001b[1;32mnot\u001b[0m \u001b[0mFalse\u001b[0m\u001b[1;33m\u001b[0m\u001b[0m\n\u001b[0;32m   1118\u001b[0m \u001b[1;33m\u001b[0m\u001b[0m\n\u001b[1;32m-> 1119\u001b[1;33m         \u001b[0mself\u001b[0m\u001b[1;33m.\u001b[0m\u001b[0m_reader\u001b[0m \u001b[1;33m=\u001b[0m \u001b[0m_parser\u001b[0m\u001b[1;33m.\u001b[0m\u001b[0mTextReader\u001b[0m\u001b[1;33m(\u001b[0m\u001b[0msrc\u001b[0m\u001b[1;33m,\u001b[0m \u001b[1;33m**\u001b[0m\u001b[0mkwds\u001b[0m\u001b[1;33m)\u001b[0m\u001b[1;33m\u001b[0m\u001b[0m\n\u001b[0m\u001b[0;32m   1120\u001b[0m \u001b[1;33m\u001b[0m\u001b[0m\n\u001b[0;32m   1121\u001b[0m         \u001b[1;31m# XXX\u001b[0m\u001b[1;33m\u001b[0m\u001b[1;33m\u001b[0m\u001b[0m\n",
      "\u001b[1;32mpandas/parser.pyx\u001b[0m in \u001b[0;36mpandas.parser.TextReader.__cinit__ (pandas/parser.c:3246)\u001b[1;34m()\u001b[0m\n",
      "\u001b[1;32mpandas/parser.pyx\u001b[0m in \u001b[0;36mpandas.parser.TextReader._setup_parser_source (pandas/parser.c:6111)\u001b[1;34m()\u001b[0m\n",
      "\u001b[1;31mIOError\u001b[0m: File ../../data/raw/tce/tce_cols.csv does not exist"
     ]
    }
   ],
   "source": [
    "tceColDescriptions_tmp = pd.read_table(\"../../data/raw/tce/tce_cols.csv\", comment=\"#\")\n",
    "tceColDescriptions = tceColDescriptions_tmp.rename(columns={\n",
    "        tceColDescriptions_tmp.columns[0]: 'data'\n",
    "    })\n",
    "tceColDescriptions['parameter'] = tceColDescriptions.data.apply(lambda x: x.split(':')[0])\n",
    "tceColDescriptions['description'] = tceColDescriptions.data.apply(lambda x: x.split(':')[1])\n",
    "def findUnits(val):\n",
    "    sval = val.split('[')\n",
    "    if sval[-1][-1] == ']':\n",
    "        return sval[-1][:-1]\n",
    "\n",
    "tceColDescriptions['units'] = tceColDescriptions.description.apply(findUnits)\n",
    "tceColDescriptions['description'] = tceColDescriptions.description.apply(lambda x: x.split('[')[0])\n",
    "tceColDescriptions['parameter'] = tceColDescriptions.parameter.apply(lambda x: x.split('COLUMN ')[1])\n",
    "del tceColDescriptions['data']\n",
    "del tceColDescriptions_tmp"
   ]
  },
  {
   "cell_type": "markdown",
   "metadata": {},
   "source": [
    "## Load TCE Data\n",
    "Load only columns defined in the **_tceColDescriptions_** data frame"
   ]
  },
  {
   "cell_type": "code",
   "execution_count": 5,
   "metadata": {
    "collapsed": false
   },
   "outputs": [],
   "source": [
    "tceRawDf = pd.read_csv(\n",
    "    \"../../../data/total/q1_q17_dr24_tce.csv\", \n",
    "    comment=\"#\", \n",
    "    usecols=list(tceColDescriptions.parameter)\n",
    ")\n",
    "n_rows, n_cols = tceRawDf.shape"
   ]
  },
  {
   "cell_type": "markdown",
   "metadata": {},
   "source": [
    "## Drop all the NaN columns \n",
    "\n",
    "Some parameters may not have any values"
   ]
  },
  {
   "cell_type": "code",
   "execution_count": 6,
   "metadata": {
    "collapsed": true
   },
   "outputs": [],
   "source": [
    "tceRawDf = tceRawDf.dropna(axis='columns', how='all')\n",
    "tceRawDf[:1000].to_csv(\"../../../data/total/d.csv\", index=True)\n",
    "# tceRawDf = tceRawDf - tceRawDf.mean(axis=0)"
   ]
  },
  {
   "cell_type": "code",
   "execution_count": 7,
   "metadata": {
    "collapsed": false
   },
   "outputs": [
    {
     "data": {
      "text/html": [
       "<div>\n",
       "<table border=\"1\" class=\"dataframe\">\n",
       "  <thead>\n",
       "    <tr style=\"text-align: right;\">\n",
       "      <th></th>\n",
       "      <th>tce_period</th>\n",
       "      <th>tce_ror</th>\n",
       "      <th>tce_dor</th>\n",
       "      <th>tce_incl</th>\n",
       "      <th>tce_impact</th>\n",
       "      <th>tce_duration</th>\n",
       "      <th>tce_ingress</th>\n",
       "      <th>tce_depth</th>\n",
       "      <th>tce_eccen</th>\n",
       "      <th>...</th>\n",
       "      <th>tce_max_mult_ev</th>\n",
       "      <th>tce_bin_oedp_stat</th>\n",
       "      <th>tce_rmesmad</th>\n",
       "      <th>tce_rsnrmes</th>\n",
       "      <th>tce_rminmes</th>\n",
       "      <th>boot_fap</th>\n",
       "      <th>boot_mesthresh</th>\n",
       "      <th>boot_mesmean</th>\n",
       "      <th>boot_messtd</th>\n",
       "    </tr>\n",
       "  </thead>\n",
       "  <tbody>\n",
       "    <tr>\n",
       "      <th>0</th>\n",
       "      <td>0.831850</td>\n",
       "      <td>0.002704</td>\n",
       "      <td>1.022012</td>\n",
       "      <td>25.04</td>\n",
       "      <td>0.92600</td>\n",
       "      <td>2.392</td>\n",
       "      <td>0.04453</td>\n",
       "      <td>6.092</td>\n",
       "      <td>0</td>\n",
       "      <td>...</td>\n",
       "      <td>10.410</td>\n",
       "      <td>1.097000e-03</td>\n",
       "      <td>2.416</td>\n",
       "      <td>0.2834</td>\n",
       "      <td>0.6137</td>\n",
       "      <td>1.848598e-57</td>\n",
       "      <td>2.271512</td>\n",
       "      <td>-4.180471</td>\n",
       "      <td>0.915663</td>\n",
       "    </tr>\n",
       "    <tr>\n",
       "      <th>1</th>\n",
       "      <td>1.095240</td>\n",
       "      <td>0.005440</td>\n",
       "      <td>3.834003</td>\n",
       "      <td>86.17</td>\n",
       "      <td>0.25630</td>\n",
       "      <td>2.122</td>\n",
       "      <td>0.01228</td>\n",
       "      <td>34.530</td>\n",
       "      <td>0</td>\n",
       "      <td>...</td>\n",
       "      <td>9.321</td>\n",
       "      <td>3.740000e-01</td>\n",
       "      <td>6.461</td>\n",
       "      <td>1.1370</td>\n",
       "      <td>0.5694</td>\n",
       "      <td>9.717469e-16</td>\n",
       "      <td>8.228319</td>\n",
       "      <td>-0.248540</td>\n",
       "      <td>1.204526</td>\n",
       "    </tr>\n",
       "    <tr>\n",
       "      <th>2</th>\n",
       "      <td>0.719273</td>\n",
       "      <td>0.005357</td>\n",
       "      <td>2.606748</td>\n",
       "      <td>74.42</td>\n",
       "      <td>0.70000</td>\n",
       "      <td>1.521</td>\n",
       "      <td>0.01581</td>\n",
       "      <td>29.680</td>\n",
       "      <td>0</td>\n",
       "      <td>...</td>\n",
       "      <td>9.099</td>\n",
       "      <td>8.454000e-24</td>\n",
       "      <td>5.155</td>\n",
       "      <td>0.9124</td>\n",
       "      <td>0.4886</td>\n",
       "      <td>1.316926e-13</td>\n",
       "      <td>8.749945</td>\n",
       "      <td>-0.208627</td>\n",
       "      <td>1.272514</td>\n",
       "    </tr>\n",
       "    <tr>\n",
       "      <th>3</th>\n",
       "      <td>0.831833</td>\n",
       "      <td>0.004806</td>\n",
       "      <td>2.914834</td>\n",
       "      <td>88.13</td>\n",
       "      <td>0.09536</td>\n",
       "      <td>2.181</td>\n",
       "      <td>0.01053</td>\n",
       "      <td>27.100</td>\n",
       "      <td>0</td>\n",
       "      <td>...</td>\n",
       "      <td>10.030</td>\n",
       "      <td>1.251000e-05</td>\n",
       "      <td>8.500</td>\n",
       "      <td>1.1920</td>\n",
       "      <td>0.5317</td>\n",
       "      <td>3.886701e-45</td>\n",
       "      <td>2.252824</td>\n",
       "      <td>-5.596324</td>\n",
       "      <td>1.112148</td>\n",
       "    </tr>\n",
       "    <tr>\n",
       "      <th>4</th>\n",
       "      <td>622.408000</td>\n",
       "      <td>0.011713</td>\n",
       "      <td>400.636420</td>\n",
       "      <td>90.00</td>\n",
       "      <td>0.00319</td>\n",
       "      <td>12.010</td>\n",
       "      <td>0.13900</td>\n",
       "      <td>161.300</td>\n",
       "      <td>0</td>\n",
       "      <td>...</td>\n",
       "      <td>9.081</td>\n",
       "      <td>1.448000e-02</td>\n",
       "      <td>12.730</td>\n",
       "      <td>0.4095</td>\n",
       "      <td>0.4821</td>\n",
       "      <td>7.372099e-13</td>\n",
       "      <td>9.047263</td>\n",
       "      <td>-1.496304</td>\n",
       "      <td>1.499810</td>\n",
       "    </tr>\n",
       "  </tbody>\n",
       "</table>\n",
       "<p>5 rows × 36 columns</p>\n",
       "</div>"
      ],
      "text/plain": [
       "   tce_period   tce_ror     tce_dor  tce_incl  tce_impact  tce_duration  tce_ingress  tce_depth  tce_eccen     ...       tce_max_mult_ev  tce_bin_oedp_stat  tce_rmesmad  tce_rsnrmes  tce_rminmes      boot_fap  boot_mesthresh  boot_mesmean  boot_messtd\n",
       "0    0.831850  0.002704    1.022012     25.04     0.92600         2.392      0.04453      6.092          0     ...                10.410       1.097000e-03        2.416       0.2834       0.6137  1.848598e-57        2.271512     -4.180471     0.915663\n",
       "1    1.095240  0.005440    3.834003     86.17     0.25630         2.122      0.01228     34.530          0     ...                 9.321       3.740000e-01        6.461       1.1370       0.5694  9.717469e-16        8.228319     -0.248540     1.204526\n",
       "2    0.719273  0.005357    2.606748     74.42     0.70000         1.521      0.01581     29.680          0     ...                 9.099       8.454000e-24        5.155       0.9124       0.4886  1.316926e-13        8.749945     -0.208627     1.272514\n",
       "3    0.831833  0.004806    2.914834     88.13     0.09536         2.181      0.01053     27.100          0     ...                10.030       1.251000e-05        8.500       1.1920       0.5317  3.886701e-45        2.252824     -5.596324     1.112148\n",
       "4  622.408000  0.011713  400.636420     90.00     0.00319        12.010      0.13900    161.300          0     ...                 9.081       1.448000e-02       12.730       0.4095       0.4821  7.372099e-13        9.047263     -1.496304     1.499810\n",
       "\n",
       "[5 rows x 36 columns]"
      ]
     },
     "metadata": {},
     "output_type": "display_data"
    }
   ],
   "source": [
    "display(tceRawDf.head())"
   ]
  },
  {
   "cell_type": "markdown",
   "metadata": {
    "collapsed": true
   },
   "source": [
    "# PCA"
   ]
  },
  {
   "cell_type": "code",
   "execution_count": 6,
   "metadata": {
    "collapsed": false
   },
   "outputs": [
    {
     "data": {
      "text/plain": [
       "PCA(copy=True, n_components=70, whiten=False)"
      ]
     },
     "execution_count": 6,
     "metadata": {},
     "output_type": "execute_result"
    }
   ],
   "source": [
    "pca = PCA(n_components=70)\n",
    "pca.fit(tceRawDf)"
   ]
  },
  {
   "cell_type": "code",
   "execution_count": 7,
   "metadata": {
    "collapsed": false
   },
   "outputs": [
    {
     "data": {
      "text/plain": [
       "array([  6.33595101e+28,   2.45019746e+18,   1.56195600e+15,\n",
       "         6.20839495e+13,   3.10990917e+12,   6.43194378e+11,\n",
       "         1.21560825e+11,   1.06637167e+11,   1.25901982e+10,\n",
       "         7.00330475e+09,   4.09011434e+09,   4.52914827e+08,\n",
       "         2.60557047e+08,   3.57646942e+07,   1.68238557e+07,\n",
       "         4.34640437e+06,   2.00075643e+06,   1.68782096e+06,\n",
       "         1.25966334e+06,   3.54345014e+05,   1.62420410e+05,\n",
       "         1.04769487e+05,   2.56253716e+04,   5.21889429e+03,\n",
       "         4.25533350e+03,   2.07442918e+03,   1.95643515e+03,\n",
       "         1.41561177e+03,   7.34128832e+02,   5.17815494e+02,\n",
       "         3.33609395e+02,   2.72459323e+02,   1.33833965e+02,\n",
       "         3.68607527e+01,   2.36503798e+01,   1.34486767e+01,\n",
       "         1.13890889e+01,   1.10039238e+01,   9.37704403e+00,\n",
       "         7.34992460e+00,   6.52989737e+00,   4.17309728e+00,\n",
       "         1.83075142e+00,   8.54796416e-01,   6.40340577e-01,\n",
       "         6.08262899e-01,   4.89375154e-01,   1.74497347e-01,\n",
       "         7.33777557e-02,   6.11966879e-02,   5.93104039e-02,\n",
       "         4.90623723e-02,   2.25308687e-02,   1.76709022e-02,\n",
       "         1.07052711e-02,   4.56331096e-03,   1.57158731e-03,\n",
       "         1.09909694e-03,   9.99973764e-04,   6.32137057e-04,\n",
       "         6.32137057e-04,   6.32137057e-04,   6.32137057e-04,\n",
       "         6.32137057e-04,   6.32137057e-04,   6.32137057e-04,\n",
       "         6.32137057e-04,   6.32137057e-04,   6.32137057e-04,\n",
       "         1.76888793e-04])"
      ]
     },
     "execution_count": 7,
     "metadata": {},
     "output_type": "execute_result"
    }
   ],
   "source": [
    "pca.explained_variance_"
   ]
  },
  {
   "cell_type": "code",
   "execution_count": 8,
   "metadata": {
    "collapsed": false
   },
   "outputs": [
    {
     "data": {
      "text/plain": [
       "array([  1.00000000e+00,   3.86713447e-11,   2.46522739e-14,\n",
       "         9.79867890e-16,   4.90835419e-17,   1.01515049e-17,\n",
       "         1.91858846e-18,   1.68304910e-18,   1.98710473e-19,\n",
       "         1.10532811e-19,   6.45540714e-20,   7.14833222e-21,\n",
       "         4.11235893e-21,   5.64472392e-22,   2.65530078e-22,\n",
       "         6.85990842e-23,   3.15778393e-23,   2.66387943e-23,\n",
       "         1.98812039e-23,   5.59260975e-24,   2.56347325e-24,\n",
       "         1.65357161e-24,   4.04443967e-25,   8.23695493e-26,\n",
       "         6.71617172e-26,   3.27406128e-26,   3.08783187e-26,\n",
       "         2.23425302e-26,   1.15867189e-26,   8.17265622e-27,\n",
       "         5.26534051e-27,   4.30021196e-27,   2.11229481e-27,\n",
       "         5.81771428e-28,   3.73272770e-28,   2.12259795e-28,\n",
       "         1.79753424e-28,   1.73674382e-28,   1.47997420e-28,\n",
       "         1.16003495e-28,   1.03061046e-28,   6.58637870e-29,\n",
       "         2.88946588e-29,   1.34912094e-29,   1.01064635e-29,\n",
       "         9.60018312e-30,   7.72378375e-30,   2.75408296e-30,\n",
       "         1.15811747e-30,   9.65864285e-31,   9.36093158e-31,\n",
       "         7.74348985e-31,   3.55603581e-31,   2.78898971e-31,\n",
       "         1.68960762e-31,   7.20225102e-32,   2.48042844e-32,\n",
       "         1.73469924e-32,   1.57825362e-32,   9.97698777e-33,\n",
       "         9.97698777e-33,   9.97698777e-33,   9.97698777e-33,\n",
       "         9.97698777e-33,   9.97698777e-33,   9.97698777e-33,\n",
       "         9.97698777e-33,   9.97698777e-33,   9.97698777e-33,\n",
       "         2.79182704e-33])"
      ]
     },
     "execution_count": 8,
     "metadata": {},
     "output_type": "execute_result"
    }
   ],
   "source": [
    "pca.explained_variance_ratio_"
   ]
  },
  {
   "cell_type": "code",
   "execution_count": null,
   "metadata": {
    "collapsed": true
   },
   "outputs": [],
   "source": []
  },
  {
   "cell_type": "code",
   "execution_count": null,
   "metadata": {
    "collapsed": true
   },
   "outputs": [],
   "source": []
  }
 ],
 "metadata": {
  "kernelspec": {
   "display_name": "Python 2",
   "language": "python",
   "name": "python2"
  },
  "language_info": {
   "codemirror_mode": {
    "name": "ipython",
    "version": 2
   },
   "file_extension": ".py",
   "mimetype": "text/x-python",
   "name": "python",
   "nbconvert_exporter": "python",
   "pygments_lexer": "ipython2",
   "version": "2.7.13"
  },
  "toc": {
   "toc_cell": true,
   "toc_number_sections": true,
   "toc_threshold": "2",
   "toc_window_display": true
  },
  "toc_position": {
   "height": "23px",
   "left": "512.801px",
   "right": "20px",
   "top": "44.9915px",
   "width": "438px"
  }
 },
 "nbformat": 4,
 "nbformat_minor": 0
}
