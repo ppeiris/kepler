{
 "cells": [
  {
   "cell_type": "code",
   "execution_count": 1,
   "metadata": {
    "collapsed": true
   },
   "outputs": [],
   "source": [
    "import numpy as np\n",
    "import pandas as pd\n"
   ]
  },
  {
   "cell_type": "code",
   "execution_count": 2,
   "metadata": {
    "collapsed": false
   },
   "outputs": [
    {
     "data": {
      "text/plain": [
       "u'/home/ppeiris/Dropbox/Kepler/src/tce/nnet'"
      ]
     },
     "execution_count": 2,
     "metadata": {},
     "output_type": "execute_result"
    }
   ],
   "source": [
    "%pwd"
   ]
  },
  {
   "cell_type": "code",
   "execution_count": 13,
   "metadata": {
    "collapsed": true
   },
   "outputs": [],
   "source": [
    "predData = pd.read_csv('../../../data/tce_computed/pred/predictdata.csv')"
   ]
  },
  {
   "cell_type": "code",
   "execution_count": 14,
   "metadata": {
    "collapsed": false
   },
   "outputs": [
    {
     "data": {
      "text/html": [
       "<div>\n",
       "<table border=\"1\" class=\"dataframe\">\n",
       "  <thead>\n",
       "    <tr style=\"text-align: right;\">\n",
       "      <th></th>\n",
       "      <th>PC4</th>\n",
       "      <th>PC8</th>\n",
       "      <th>PC9</th>\n",
       "      <th>PC18</th>\n",
       "      <th>PC19</th>\n",
       "      <th>PC14</th>\n",
       "      <th>PC15</th>\n",
       "      <th>PC16</th>\n",
       "      <th>PC17</th>\n",
       "      <th>PC10</th>\n",
       "      <th>...</th>\n",
       "      <th>PC2</th>\n",
       "      <th>PC7</th>\n",
       "      <th>PC6</th>\n",
       "      <th>PC20</th>\n",
       "      <th>PC3</th>\n",
       "      <th>PC5</th>\n",
       "      <th>PC0</th>\n",
       "      <th>PC1</th>\n",
       "      <th>av_pred_class</th>\n",
       "      <th>pred</th>\n",
       "    </tr>\n",
       "  </thead>\n",
       "  <tbody>\n",
       "    <tr>\n",
       "      <th>0</th>\n",
       "      <td>0.065668</td>\n",
       "      <td>0.129034</td>\n",
       "      <td>-0.427501</td>\n",
       "      <td>0.094809</td>\n",
       "      <td>-0.024029</td>\n",
       "      <td>0.067745</td>\n",
       "      <td>-0.204371</td>\n",
       "      <td>0.021577</td>\n",
       "      <td>0.429113</td>\n",
       "      <td>-0.274871</td>\n",
       "      <td>...</td>\n",
       "      <td>-1.617779</td>\n",
       "      <td>-0.005090</td>\n",
       "      <td>0.412128</td>\n",
       "      <td>-0.088651</td>\n",
       "      <td>0.850776</td>\n",
       "      <td>0.292937</td>\n",
       "      <td>-0.036681</td>\n",
       "      <td>0.638688</td>\n",
       "      <td>NTP</td>\n",
       "      <td>AFP</td>\n",
       "    </tr>\n",
       "    <tr>\n",
       "      <th>1</th>\n",
       "      <td>0.784101</td>\n",
       "      <td>0.902142</td>\n",
       "      <td>-0.529748</td>\n",
       "      <td>0.030281</td>\n",
       "      <td>2.100244</td>\n",
       "      <td>-0.032247</td>\n",
       "      <td>0.091709</td>\n",
       "      <td>-0.563312</td>\n",
       "      <td>-0.272490</td>\n",
       "      <td>0.084758</td>\n",
       "      <td>...</td>\n",
       "      <td>1.668497</td>\n",
       "      <td>-0.428720</td>\n",
       "      <td>-1.516476</td>\n",
       "      <td>-2.094466</td>\n",
       "      <td>-3.681954</td>\n",
       "      <td>0.095644</td>\n",
       "      <td>0.277710</td>\n",
       "      <td>8.179922</td>\n",
       "      <td>NTP</td>\n",
       "      <td>NTP</td>\n",
       "    </tr>\n",
       "    <tr>\n",
       "      <th>2</th>\n",
       "      <td>-0.202848</td>\n",
       "      <td>-0.125989</td>\n",
       "      <td>0.472248</td>\n",
       "      <td>0.073258</td>\n",
       "      <td>-0.055636</td>\n",
       "      <td>0.472065</td>\n",
       "      <td>0.224711</td>\n",
       "      <td>-0.083510</td>\n",
       "      <td>0.302864</td>\n",
       "      <td>0.344742</td>\n",
       "      <td>...</td>\n",
       "      <td>0.207738</td>\n",
       "      <td>0.066998</td>\n",
       "      <td>-1.170956</td>\n",
       "      <td>-0.083063</td>\n",
       "      <td>-0.407251</td>\n",
       "      <td>0.126993</td>\n",
       "      <td>-0.094170</td>\n",
       "      <td>-1.720638</td>\n",
       "      <td>NTP</td>\n",
       "      <td>AFP</td>\n",
       "    </tr>\n",
       "    <tr>\n",
       "      <th>3</th>\n",
       "      <td>-0.810062</td>\n",
       "      <td>-0.535876</td>\n",
       "      <td>-1.053818</td>\n",
       "      <td>0.083455</td>\n",
       "      <td>0.019533</td>\n",
       "      <td>-0.261121</td>\n",
       "      <td>0.309003</td>\n",
       "      <td>-0.432570</td>\n",
       "      <td>0.218645</td>\n",
       "      <td>-0.654172</td>\n",
       "      <td>...</td>\n",
       "      <td>-0.479372</td>\n",
       "      <td>0.256088</td>\n",
       "      <td>0.966853</td>\n",
       "      <td>0.317582</td>\n",
       "      <td>1.594332</td>\n",
       "      <td>0.445590</td>\n",
       "      <td>-0.013329</td>\n",
       "      <td>0.927657</td>\n",
       "      <td>PC</td>\n",
       "      <td>AFP</td>\n",
       "    </tr>\n",
       "    <tr>\n",
       "      <th>4</th>\n",
       "      <td>1.374642</td>\n",
       "      <td>-0.266300</td>\n",
       "      <td>0.960886</td>\n",
       "      <td>0.973966</td>\n",
       "      <td>0.063456</td>\n",
       "      <td>-0.088305</td>\n",
       "      <td>-0.677466</td>\n",
       "      <td>-2.142102</td>\n",
       "      <td>-0.584180</td>\n",
       "      <td>0.607063</td>\n",
       "      <td>...</td>\n",
       "      <td>-2.273431</td>\n",
       "      <td>0.133264</td>\n",
       "      <td>-1.080060</td>\n",
       "      <td>0.044541</td>\n",
       "      <td>-0.833850</td>\n",
       "      <td>-0.467494</td>\n",
       "      <td>-0.067152</td>\n",
       "      <td>0.207528</td>\n",
       "      <td>AFP</td>\n",
       "      <td>AFP</td>\n",
       "    </tr>\n",
       "  </tbody>\n",
       "</table>\n",
       "<p>5 rows × 23 columns</p>\n",
       "</div>"
      ],
      "text/plain": [
       "        PC4       PC8       PC9      PC18      PC19      PC14      PC15  \\\n",
       "0  0.065668  0.129034 -0.427501  0.094809 -0.024029  0.067745 -0.204371   \n",
       "1  0.784101  0.902142 -0.529748  0.030281  2.100244 -0.032247  0.091709   \n",
       "2 -0.202848 -0.125989  0.472248  0.073258 -0.055636  0.472065  0.224711   \n",
       "3 -0.810062 -0.535876 -1.053818  0.083455  0.019533 -0.261121  0.309003   \n",
       "4  1.374642 -0.266300  0.960886  0.973966  0.063456 -0.088305 -0.677466   \n",
       "\n",
       "       PC16      PC17      PC10  ...        PC2       PC7       PC6      PC20  \\\n",
       "0  0.021577  0.429113 -0.274871  ...  -1.617779 -0.005090  0.412128 -0.088651   \n",
       "1 -0.563312 -0.272490  0.084758  ...   1.668497 -0.428720 -1.516476 -2.094466   \n",
       "2 -0.083510  0.302864  0.344742  ...   0.207738  0.066998 -1.170956 -0.083063   \n",
       "3 -0.432570  0.218645 -0.654172  ...  -0.479372  0.256088  0.966853  0.317582   \n",
       "4 -2.142102 -0.584180  0.607063  ...  -2.273431  0.133264 -1.080060  0.044541   \n",
       "\n",
       "        PC3       PC5       PC0       PC1  av_pred_class  pred  \n",
       "0  0.850776  0.292937 -0.036681  0.638688            NTP   AFP  \n",
       "1 -3.681954  0.095644  0.277710  8.179922            NTP   NTP  \n",
       "2 -0.407251  0.126993 -0.094170 -1.720638            NTP   AFP  \n",
       "3  1.594332  0.445590 -0.013329  0.927657             PC   AFP  \n",
       "4 -0.833850 -0.467494 -0.067152  0.207528            AFP   AFP  \n",
       "\n",
       "[5 rows x 23 columns]"
      ]
     },
     "execution_count": 14,
     "metadata": {},
     "output_type": "execute_result"
    }
   ],
   "source": [
    "predData.head()"
   ]
  },
  {
   "cell_type": "code",
   "execution_count": 15,
   "metadata": {
    "collapsed": false
   },
   "outputs": [
    {
     "data": {
      "text/plain": [
       "1494"
      ]
     },
     "execution_count": 15,
     "metadata": {},
     "output_type": "execute_result"
    }
   ],
   "source": [
    "len(predData[predData.av_pred_class == predData.pred])"
   ]
  },
  {
   "cell_type": "code",
   "execution_count": 16,
   "metadata": {
    "collapsed": false
   },
   "outputs": [
    {
     "data": {
      "text/plain": [
       "2037"
      ]
     },
     "execution_count": 16,
     "metadata": {},
     "output_type": "execute_result"
    }
   ],
   "source": [
    "predData.shape[0]"
   ]
  },
  {
   "cell_type": "code",
   "execution_count": 11,
   "metadata": {
    "collapsed": false
   },
   "outputs": [
    {
     "data": {
      "text/plain": [
       "0"
      ]
     },
     "execution_count": 11,
     "metadata": {},
     "output_type": "execute_result"
    }
   ],
   "source": [
    "len(predData[predData.av_pred_class == predData.pred])/predData.shape[0]"
   ]
  },
  {
   "cell_type": "code",
   "execution_count": 17,
   "metadata": {
    "collapsed": false
   },
   "outputs": [
    {
     "data": {
      "text/plain": [
       "0.7334315169366715"
      ]
     },
     "execution_count": 17,
     "metadata": {},
     "output_type": "execute_result"
    }
   ],
   "source": [
    "1494.0/2037.0"
   ]
  },
  {
   "cell_type": "code",
   "execution_count": null,
   "metadata": {
    "collapsed": true
   },
   "outputs": [],
   "source": []
  }
 ],
 "metadata": {
  "kernelspec": {
   "display_name": "Python 2",
   "language": "python",
   "name": "python2"
  },
  "language_info": {
   "codemirror_mode": {
    "name": "ipython",
    "version": 2
   },
   "file_extension": ".py",
   "mimetype": "text/x-python",
   "name": "python",
   "nbconvert_exporter": "python",
   "pygments_lexer": "ipython2",
   "version": "2.7.13"
  },
  "toc": {
   "toc_cell": true,
   "toc_number_sections": false,
   "toc_threshold": "2",
   "toc_window_display": true
  }
 },
 "nbformat": 4,
 "nbformat_minor": 0
}
