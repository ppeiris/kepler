{
 "cells": [
  {
   "cell_type": "markdown",
   "metadata": {
    "toc": "true"
   },
   "source": [
    "# Table of Contents\n",
    " <p><div class=\"lev1\"><a href=\"#Compare-Stochastic-learning-strategies-for-MLPClassifier\">Compare Stochastic learning strategies for MLPClassifier</a></div>"
   ]
  },
  {
   "cell_type": "code",
   "execution_count": 18,
   "metadata": {
    "collapsed": false
   },
   "outputs": [],
   "source": [
    "%matplotlib inline"
   ]
  },
  {
   "cell_type": "markdown",
   "metadata": {},
   "source": [
    "\n",
    "# Compare Stochastic learning strategies for MLPClassifier\n",
    "\n",
    "\n",
    "This example visualizes some training loss curves for different stochastic\n",
    "learning strategies, including SGD and Adam. Because of time-constraints, we\n",
    "use several small datasets, for which L-BFGS might be more suitable. The\n",
    "general trend shown in these examples seems to carry over to larger datasets,\n",
    "however.\n",
    "\n",
    "Note that those results can be highly dependent on the value of\n",
    "``learning_rate_init``.\n"
   ]
  },
  {
   "cell_type": "code",
   "execution_count": 101,
   "metadata": {
    "collapsed": false
   },
   "outputs": [
    {
     "name": "stdout",
     "output_type": "stream",
     "text": [
      "Automatically created module for IPython interactive environment\n"
     ]
    }
   ],
   "source": [
    "print(__doc__)\n",
    "import matplotlib.pyplot as plt\n",
    "from sklearn.neural_network import MLPClassifier\n",
    "from sklearn.preprocessing import MinMaxScaler\n",
    "from sklearn import datasets\n",
    "\n",
    "# different learning rate schedules and momentum parameters\n",
    "params = [\n",
    "    {\n",
    "        'solver': 'sgd', \n",
    "        'learning_rate': \n",
    "        'constant', \n",
    "        'momentum': 0,\n",
    "        'learning_rate_init': 0.2\n",
    "    },\n",
    "    {\n",
    "        'solver': 'sgd', \n",
    "        'learning_rate': \n",
    "        'constant', \n",
    "        'momentum': .9,\n",
    "        'nesterovs_momentum': False, \n",
    "        'learning_rate_init': 0.2\n",
    "    },\n",
    "    {\n",
    "        'solver': 'sgd', \n",
    "        'learning_rate': \n",
    "        'constant', \n",
    "        'momentum': .9,\n",
    "        'nesterovs_momentum': True, \n",
    "        'learning_rate_init': 0.2\n",
    "    },\n",
    "    {\n",
    "        'solver': 'sgd', \n",
    "        'learning_rate': \n",
    "        'invscaling', \n",
    "        'momentum': 0,\n",
    "        'learning_rate_init': 0.2\n",
    "    },\n",
    "    {\n",
    "        'solver': 'sgd', \n",
    "        'learning_rate': 'invscaling', \n",
    "        'momentum': .9,\n",
    "        'nesterovs_momentum': True, \n",
    "        'learning_rate_init': 0.2\n",
    "    },\n",
    "    {\n",
    "        'solver': 'sgd', \n",
    "        'learning_rate': 'invscaling', \n",
    "        'momentum': .9,\n",
    "        'nesterovs_momentum': False, \n",
    "        'learning_rate_init': 0.2\n",
    "    },\n",
    "    {\n",
    "        'solver': 'adam', \n",
    "        'learning_rate_init': 0.01\n",
    "    }\n",
    "]\n",
    "\n",
    "labels = [\n",
    "    \"constant learning-rate\",\n",
    "    \"constant with momentum\",\n",
    "    \"constant with Nesterov's momentum\",\n",
    "    \"inv-scaling learning-rate\",\n",
    "    \"inv-scaling with momentum\",\n",
    "    \"inv-scaling with Nesterov's momentum\",\n",
    "    \"adam\"\n",
    "]\n",
    "\n",
    "\n",
    "plot_args = [\n",
    "    {\n",
    "        'c': 'red', \n",
    "        'linestyle': '-'\n",
    "    },\n",
    "    {\n",
    "        'c': 'green',\n",
    "        'linestyle': '-'\n",
    "    },\n",
    "\n",
    "    {\n",
    "        'c': 'blue',\n",
    "        'linestyle': '-'\n",
    "    },\n",
    "\n",
    "    {\n",
    "        'c': 'red', \n",
    "        'linestyle': '--'\n",
    "    },\n",
    "\n",
    "    {\n",
    "        'c': 'green',\n",
    "        'linestyle': '--'\n",
    "    },\n",
    "\n",
    "    {\n",
    "        'c': 'blue',\n",
    "        'linestyle': '--'\n",
    "    },\n",
    "\n",
    "    {\n",
    "        'c': 'black',\n",
    "        'linestyle': '-'\n",
    "    }\n",
    "]"
   ]
  },
  {
   "cell_type": "code",
   "execution_count": 136,
   "metadata": {
    "collapsed": false
   },
   "outputs": [],
   "source": [
    "\n",
    "def plot_on_dataset(X, y, ax, name):\n",
    "      \n",
    "    # for each dataset, plot learning for each learning strategy\n",
    "#     print(\"\\nlearning on dataset %s\" % name)\n",
    "    ax.set_title(name)\n",
    "    X = MinMaxScaler().fit_transform(X)\n",
    "    mlps = []\n",
    "    if name == \"digits\":\n",
    "        # digits is larger but converges fairly quickly\n",
    "        max_iter = 15\n",
    "    else:\n",
    "        max_iter = 400\n",
    "\n",
    "    for label, param in zip(labels, params):\n",
    "#         print(\"training: %s\" % label)\n",
    "#         print(param)\n",
    "        mlp = MLPClassifier(verbose=0, random_state=0,\n",
    "                            max_iter=max_iter, **param)\n",
    "        mlp.fit(X, y)\n",
    "        mlps.append(mlp)\n",
    "#         print(\"Training set score: %f\" % mlp.score(X, y))\n",
    "#         print(\"Training set loss: %f\" % mlp.loss_)\n",
    "#     for mlp, label, args in zip(mlps, labels, plot_args):\n",
    "#             ax.plot(mlp.loss_curve_, label=label, **args)\n",
    "    return mlps"
   ]
  },
  {
   "cell_type": "code",
   "execution_count": 143,
   "metadata": {
    "collapsed": false,
    "scrolled": false
   },
   "outputs": [
    {
     "data": {
      "image/png": "[encoded data removed]",
      "text/plain": [
       "<matplotlib.figure.Figure at 0x7f7f774e4350>"
      ]
     },
     "metadata": {},
     "output_type": "display_data"
    }
   ],
   "source": [
    "\n",
    "\n",
    "fig, axes = plt.subplots(2, 2, figsize=(15, 10))\n",
    "# load / generate some toy datasets\n",
    "iris = datasets.load_iris()\n",
    "digits = datasets.load_digits()\n",
    "data_sets = [(iris.data, iris.target),\n",
    "             (digits.data, digits.target),\n",
    "             datasets.make_circles(noise=0.2, factor=0.5, random_state=1),\n",
    "             datasets.make_moons(noise=0.3, random_state=0)]\n",
    "\n",
    "for ax, data, name in zip(axes.ravel(), data_sets, ['iris', 'digits',\n",
    "                                                    'circles', 'moons']):\n",
    "    \n",
    "    mlps = plot_on_dataset(*data, ax=ax, name=name)\n",
    "    \n",
    "# fig.legend(ax.get_lines(), labels=labels, ncol=3, loc=\"upper center\")\n",
    "# plt.show()\n",
    "\n",
    "plt.figure(1)\n",
    "plt.plot(mlps[0].loss_curve_)\n",
    "# print(mlps[0].loss_curve_)\n",
    "plt.show()"
   ]
  },
  {
   "cell_type": "code",
   "execution_count": 42,
   "metadata": {
    "collapsed": false
   },
   "outputs": [],
   "source": [
    "import numpy as np\n",
    "tmpdata = [(1, 2, 3), ('a', 'b', 'c')]"
   ]
  },
  {
   "cell_type": "code",
   "execution_count": 48,
   "metadata": {
    "collapsed": false
   },
   "outputs": [
    {
     "data": {
      "text/plain": [
       "[(1, 2, 3), ('a', 'b', 'c')]"
      ]
     },
     "execution_count": 48,
     "metadata": {},
     "output_type": "execute_result"
    }
   ],
   "source": [
    "tmpdata"
   ]
  },
  {
   "cell_type": "code",
   "execution_count": 54,
   "metadata": {
    "collapsed": false
   },
   "outputs": [
    {
     "name": "stdout",
     "output_type": "stream",
     "text": [
      "(1, 2, 3)\n",
      "('a', 'b', 'c')\n"
     ]
    }
   ],
   "source": [
    "def tmpfun(x, y):\n",
    "    print(x)\n",
    "    print(y)\n",
    "\n",
    "tmpfun(*tmpdata)"
   ]
  },
  {
   "cell_type": "code",
   "execution_count": 56,
   "metadata": {
    "collapsed": false
   },
   "outputs": [
    {
     "name": "stdout",
     "output_type": "stream",
     "text": [
      "{'john': 10, 'jill': 12, 'david': 15}\n"
     ]
    }
   ],
   "source": [
    "def printdict(**kwargs):\n",
    "    print repr(kwargs)\n",
    "\n",
    "printdict(john=10, jill=12, david=15)"
   ]
  },
  {
   "cell_type": "code",
   "execution_count": 60,
   "metadata": {
    "collapsed": false
   },
   "outputs": [],
   "source": [
    "t = [('solver', 'sgd'), ('learning_rate', 'constant'), ('momentum', '0.0'), ('learning_rate_init', '0.2'), ('label', '\"constant learning-rate\"')]\n"
   ]
  },
  {
   "cell_type": "code",
   "execution_count": 67,
   "metadata": {
    "collapsed": false
   },
   "outputs": [
    {
     "data": {
      "text/plain": [
       "[('solver', 'sgd'),\n",
       " ('learning_rate', 'constant'),\n",
       " ('momentum', '0.0'),\n",
       " ('learning_rate_init', '0.2'),\n",
       " ('label', '\"constant learning-rate\"')]"
      ]
     },
     "execution_count": 67,
     "metadata": {},
     "output_type": "execute_result"
    }
   ],
   "source": [
    "t"
   ]
  },
  {
   "cell_type": "code",
   "execution_count": 79,
   "metadata": {
    "collapsed": false
   },
   "outputs": [
    {
     "name": "stdout",
     "output_type": "stream",
     "text": [
      "solver\n",
      "learning_rate\n",
      "momentum\n",
      "learning_rate_init\n",
      "label\n"
     ]
    }
   ],
   "source": [
    "for tu in t:\n",
    "    print tu[0]"
   ]
  },
  {
   "cell_type": "code",
   "execution_count": 80,
   "metadata": {
    "collapsed": false
   },
   "outputs": [],
   "source": [
    "params = {\n",
    "            'a1': {\n",
    "                'solver': 'sgd',\n",
    "                'learning_rate': 'constant',\n",
    "                'momentum': 0.0,\n",
    "                'learning_rate_init': 0.2\n",
    "            },\n",
    "            'b': {\n",
    "                'solver': 'sgd',\n",
    "                'learning_rate': 'constant',\n",
    "                'momentum': 0.9,\n",
    "                'nesterovs_momentum': False,\n",
    "                'learning_rate_init': 0.2\n",
    "            }}"
   ]
  },
  {
   "cell_type": "code",
   "execution_count": 77,
   "metadata": {
    "collapsed": false
   },
   "outputs": [
    {
     "data": {
      "text/plain": [
       "{'learning_rate': 'constant',\n",
       " 'learning_rate_init': 0.2,\n",
       " 'momentum': 0.0,\n",
       " 'solver': 'sgd'}"
      ]
     },
     "execution_count": 77,
     "metadata": {},
     "output_type": "execute_result"
    }
   ],
   "source": [
    "params['a1']"
   ]
  },
  {
   "cell_type": "code",
   "execution_count": 82,
   "metadata": {
    "collapsed": false
   },
   "outputs": [],
   "source": [
    "b = {'solver_4': {'learning_rate': 'invscaling', 'label': '\"inv-scaling learning-rate\"', 'learning_rate_init': '0.2', 'momentum': '0.0', 'solver': 'sgd'}, 'solver_5': {'nesterovs_momentum': 'True,', 'solver': 'sgd', 'learning_rate': 'invscaling', 'label': '\"inv-scaling with momentum\"', 'momentum': '0.9', 'learning_rate_init': '0.2'}, 'solver_6': {'nesterovs_momentum': 'False,', 'solver': 'sgd', 'learning_rate': 'invscaling', 'label': '\"inv-scaling with Nesterov\\'s momentum\"', 'momentum': '.9', 'learning_rate_init': '0.2'}, 'solver_7': {'label': '\"adam\"', 'learning_rate_init': '0.1', 'solver': 'adam'}, 'solver_1': {'learning_rate': 'constant', 'label': '\"constant learning-rate\"', 'learning_rate_init': '0.2', 'momentum': '0.0', 'solver': 'sgd'}, 'solver_2': {'nesterovs_momentum': 'False,', 'solver': 'sgd', 'learning_rate': 'constant', 'label': '\"constant with momentum\"', 'momentum': '0.9', 'learning_rate_init': '0.2'}, 'solver_3': {'nesterovs_momentum': 'True,', 'solver': 'sgd', 'learning_rate': 'constant', 'label': '\"constant with Nesterov\\'s momentum\"', 'momentum': '0.9', 'learning_rate_init': '0.2'}}"
   ]
  },
  {
   "cell_type": "code",
   "execution_count": 113,
   "metadata": {
    "collapsed": false
   },
   "outputs": [],
   "source": [
    "del b['solver_4']['label']"
   ]
  },
  {
   "cell_type": "code",
   "execution_count": 115,
   "metadata": {
    "collapsed": false
   },
   "outputs": [
    {
     "data": {
      "text/plain": [
       "{'learning_rate': 'invscaling',\n",
       " 'learning_rate_init': '0.2',\n",
       " 'momentum': '0.0',\n",
       " 'solver': 'sgd'}"
      ]
     },
     "execution_count": 115,
     "metadata": {},
     "output_type": "execute_result"
    }
   ],
   "source": [
    "b['solver_4_int']"
   ]
  },
  {
   "cell_type": "code",
   "execution_count": 116,
   "metadata": {
    "collapsed": false
   },
   "outputs": [
    {
     "data": {
      "text/plain": [
       "'solver_4'"
      ]
     },
     "execution_count": 116,
     "metadata": {},
     "output_type": "execute_result"
    }
   ],
   "source": [
    "a = 'solver_4_int'\n",
    "a[:-4]"
   ]
  },
  {
   "cell_type": "code",
   "execution_count": 117,
   "metadata": {
    "collapsed": false
   },
   "outputs": [
    {
     "data": {
      "text/plain": [
       "4.0"
      ]
     },
     "execution_count": 117,
     "metadata": {},
     "output_type": "execute_result"
    }
   ],
   "source": [
    "a = '4.0'\n",
    "float(a)"
   ]
  },
  {
   "cell_type": "code",
   "execution_count": 120,
   "metadata": {
    "collapsed": false
   },
   "outputs": [
    {
     "data": {
      "text/plain": [
       "True"
      ]
     },
     "execution_count": 120,
     "metadata": {},
     "output_type": "execute_result"
    }
   ],
   "source": [
    "a =1 \n",
    "a==1 "
   ]
  },
  {
   "cell_type": "code",
   "execution_count": 128,
   "metadata": {
    "collapsed": true
   },
   "outputs": [],
   "source": [
    "a ='False'"
   ]
  },
  {
   "cell_type": "code",
   "execution_count": 129,
   "metadata": {
    "collapsed": false
   },
   "outputs": [
    {
     "data": {
      "text/plain": [
       "False"
      ]
     },
     "execution_count": 129,
     "metadata": {},
     "output_type": "execute_result"
    }
   ],
   "source": [
    "a == 'True'"
   ]
  },
  {
   "cell_type": "code",
   "execution_count": 126,
   "metadata": {
    "collapsed": false
   },
   "outputs": [
    {
     "data": {
      "text/plain": [
       "True"
      ]
     },
     "execution_count": 126,
     "metadata": {},
     "output_type": "execute_result"
    }
   ],
   "source": [
    "bool(a)"
   ]
  },
  {
   "cell_type": "code",
   "execution_count": null,
   "metadata": {
    "collapsed": true
   },
   "outputs": [],
   "source": [
    "{'solver_4': {'learning_rate': 'invscaling', 'label': 'inv-scaling learning-rate', 'learning_rate_init': 0.2, 'momentum': 0.0, 'solver': 'sgd'}, 'solver_5': {'nesterovs_momentum': False, 'solver': 'sgd', 'learning_rate': 'invscaling', 'label': 'inv-scaling with momentum', 'momentum': 0.9, 'learning_rate_init': 0.2}, 'solver_6': {'nesterovs_momentum': False, 'solver': 'sgd', 'learning_rate': 'invscaling', 'label': \"inv-scaling with Nesterov's momentum\", 'momentum': 0.9, 'learning_rate_init': 0.2}, 'solver_7': {'label': 'adam', 'learning_rate_init': 0.1, 'solver': 'adam'}, 'solver_1': {'learning_rate': 'constant', 'label': 'constant learning-rate', 'learning_rate_init': 0.2, 'momentum': 0.0, 'solver': 'sgd'}, 'solver_2': {'nesterovs_momentum': False, 'solver': 'sgd', 'learning_rate': 'constant', 'label': 'constant with momentum', 'momentum': 0.9, 'learning_rate_init': 0.2}, 'solver_3': {'nesterovs_momentum': False, 'solver': 'sgd', 'learning_rate': 'constant', 'label': \"constant with Nesterov's momentum\", 'momentum': 0.9, 'learning_rate_init': 0.2}}\n",
    "{'learning_rate': 'invscaling', 'learning_rate_init': 0.2, 'momentum': 0.0, 'solver': 'sgd'}\n"
   ]
  },
  {
   "cell_type": "code",
   "execution_count": 133,
   "metadata": {
    "collapsed": false
   },
   "outputs": [
    {
     "data": {
      "text/plain": [
       "1.0"
      ]
     },
     "execution_count": 133,
     "metadata": {},
     "output_type": "execute_result"
    }
   ],
   "source": [
    "7.0 % 2.0"
   ]
  },
  {
   "cell_type": "code",
   "execution_count": null,
   "metadata": {
    "collapsed": true
   },
   "outputs": [],
   "source": []
  }
 ],
 "metadata": {
  "kernelspec": {
   "display_name": "Python 2",
   "language": "python",
   "name": "python2"
  },
  "language_info": {
   "codemirror_mode": {
    "name": "ipython",
    "version": 2
   },
   "file_extension": ".py",
   "mimetype": "text/x-python",
   "name": "python",
   "nbconvert_exporter": "python",
   "pygments_lexer": "ipython2",
   "version": "2.7.13"
  },
  "toc": {
   "toc_cell": true,
   "toc_number_sections": false,
   "toc_threshold": "2",
   "toc_window_display": true
  }
 },
 "nbformat": 4,
 "nbformat_minor": 0
}
