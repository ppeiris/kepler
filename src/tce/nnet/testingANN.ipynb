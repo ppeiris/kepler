{
 "cells": [
  {
   "cell_type": "markdown",
   "metadata": {
    "toc": "true"
   },
   "source": [
    "# Table of Contents\n",
    " <p>"
   ]
  },
  {
   "cell_type": "code",
   "execution_count": 1,
   "metadata": {
    "collapsed": false
   },
   "outputs": [
    {
     "name": "stdout",
     "output_type": "stream",
     "text": [
      "Automatically created module for IPython interactive environment\n"
     ]
    }
   ],
   "source": [
    "print(__doc__)\n",
    "import matplotlib.pyplot as plt\n",
    "from sklearn.neural_network import MLPClassifier\n",
    "from sklearn.preprocessing import MinMaxScaler\n",
    "from sklearn import datasets"
   ]
  },
  {
   "cell_type": "code",
   "execution_count": 2,
   "metadata": {
    "collapsed": true
   },
   "outputs": [],
   "source": [
    "# different learning rate schedules and momentum parameters\n",
    "params = [{'solver': 'sgd', 'learning_rate': 'constant', 'momentum': 0,\n",
    "           'learning_rate_init': 0.2},\n",
    "          {'solver': 'sgd', 'learning_rate': 'constant', 'momentum': .9,\n",
    "           'nesterovs_momentum': False, 'learning_rate_init': 0.2},\n",
    "          {'solver': 'sgd', 'learning_rate': 'constant', 'momentum': .9,\n",
    "           'nesterovs_momentum': True, 'learning_rate_init': 0.2},\n",
    "          {'solver': 'sgd', 'learning_rate': 'invscaling', 'momentum': 0,\n",
    "           'learning_rate_init': 0.2},\n",
    "          {'solver': 'sgd', 'learning_rate': 'invscaling', 'momentum': .9,\n",
    "           'nesterovs_momentum': True, 'learning_rate_init': 0.2},\n",
    "          {'solver': 'sgd', 'learning_rate': 'invscaling', 'momentum': .9,\n",
    "           'nesterovs_momentum': False, 'learning_rate_init': 0.2},\n",
    "          {'solver': 'adam', 'learning_rate_init': 0.01}]\n",
    "\n",
    "labels = [\"constant learning-rate\", \"constant with momentum\",\n",
    "          \"constant with Nesterov's momentum\",\n",
    "          \"inv-scaling learning-rate\", \"inv-scaling with momentum\",\n",
    "          \"inv-scaling with Nesterov's momentum\", \"adam\"]\n",
    "\n",
    "plot_args = [{'c': 'red', 'linestyle': '-'},\n",
    "             {'c': 'green', 'linestyle': '-'},\n",
    "             {'c': 'blue', 'linestyle': '-'},\n",
    "             {'c': 'red', 'linestyle': '--'},\n",
    "             {'c': 'green', 'linestyle': '--'},\n",
    "             {'c': 'blue', 'linestyle': '--'},\n",
    "             {'c': 'black', 'linestyle': '-'}]\n"
   ]
  },
  {
   "cell_type": "code",
   "execution_count": 16,
   "metadata": {
    "collapsed": false
   },
   "outputs": [],
   "source": [
    "def plot_on_dataset(X, y, ax, name):\n",
    "    # for each dataset, plot learning for each learning strategy\n",
    "    print(\"\\nlearning on dataset %s\" % name)\n",
    "    ax.set_title(name)\n",
    "    X = MinMaxScaler().fit_transform(X)\n",
    "    mlps = []\n",
    "    if name == \"digits\":\n",
    "        # digits is larger but converges fairly quickly\n",
    "        max_iter = 15\n",
    "    else:\n",
    "        max_iter = 400\n",
    "\n",
    "    for label, param in zip(labels, params):\n",
    "        print(\"training: %s\" % label)\n",
    "        mlp = MLPClassifier(verbose=0, random_state=0, hidden_layer_sizes=(50, ),\n",
    "                            max_iter=max_iter, **param)\n",
    "        mlp.fit(X, y)\n",
    "        mlps.append(mlp)\n",
    "        print(\"Training set score: %f\" % mlp.score(X, y))\n",
    "        print(\"Training set loss: %f\" % mlp.loss_)\n",
    "    for mlp, label, args in zip(mlps, labels, plot_args):\n",
    "            ax.plot(mlp.loss_curve_, label=label, **args)\n",
    "\n"
   ]
  },
  {
   "cell_type": "code",
   "execution_count": 17,
   "metadata": {
    "collapsed": false
   },
   "outputs": [
    {
     "name": "stdout",
     "output_type": "stream",
     "text": [
      "\n",
      "learning on dataset iris\n",
      "training: constant learning-rate\n",
      "Training set score: 0.973333\n",
      "Training set loss: 0.095955\n",
      "training: constant with momentum\n",
      "Training set score: 0.980000\n",
      "Training set loss: 0.050308\n",
      "training: constant with Nesterov's momentum\n",
      "Training set score: 0.980000\n",
      "Training set loss: 0.050215\n",
      "training: inv-scaling learning-rate\n",
      "Training set score: 0.460000\n",
      "Training set loss: 1.059923\n",
      "training: inv-scaling with momentum\n",
      "Training set score: 0.846667\n",
      "Training set loss: 0.578826\n",
      "training: inv-scaling with Nesterov's momentum\n",
      "Training set score: 0.333333\n",
      "Training set loss: 1.021655\n",
      "training: adam\n",
      "Training set score: 0.980000\n",
      "Training set loss: 0.049611\n",
      "\n",
      "learning on dataset digits\n",
      "training: constant learning-rate\n",
      "Training set score: 0.946021\n",
      "Training set loss: 0.269184\n",
      "training: constant with momentum\n",
      "Training set score: 0.990540\n",
      "Training set loss: 0.050577\n",
      "training: constant with Nesterov's momentum\n",
      "Training set score: 0.992209\n",
      "Training set loss: 0.044938\n",
      "training: inv-scaling learning-rate\n",
      "Training set score: 0.539232\n",
      "Training set loss: 1.921572\n",
      "training: inv-scaling with momentum\n",
      "Training set score: 0.912632\n",
      "Training set loss: 0.325746\n",
      "training: inv-scaling with Nesterov's momentum\n",
      "Training set score: 0.906511\n",
      "Training set loss: 0.365801\n",
      "training: adam\n",
      "Training set score: 0.988870\n",
      "Training set loss: 0.063172\n",
      "\n",
      "learning on dataset circles\n",
      "training: constant learning-rate\n",
      "Training set score: 0.860000\n",
      "Training set loss: 0.604322\n",
      "training: constant with momentum\n",
      "Training set score: 0.500000\n",
      "Training set loss: 0.697810\n",
      "training: constant with Nesterov's momentum\n",
      "Training set score: 0.940000\n",
      "Training set loss: 0.165755\n",
      "training: inv-scaling learning-rate\n",
      "Training set score: 0.500000\n",
      "Training set loss: 0.704017\n",
      "training: inv-scaling with momentum\n",
      "Training set score: 0.500000\n",
      "Training set loss: 0.693970\n",
      "training: inv-scaling with Nesterov's momentum\n",
      "Training set score: 0.500000\n",
      "Training set loss: 0.693723\n",
      "training: adam\n",
      "Training set score: 0.940000\n",
      "Training set loss: 0.159329\n",
      "\n",
      "learning on dataset moons\n",
      "training: constant learning-rate\n",
      "Training set score: 0.850000\n",
      "Training set loss: 0.342146\n",
      "training: constant with momentum\n",
      "Training set score: 0.840000\n",
      "Training set loss: 0.345667\n",
      "training: constant with Nesterov's momentum\n",
      "Training set score: 0.850000\n",
      "Training set loss: 0.335977\n",
      "training: inv-scaling learning-rate\n",
      "Training set score: 0.500000\n",
      "Training set loss: 0.671462\n",
      "training: inv-scaling with momentum\n",
      "Training set score: 0.830000\n",
      "Training set loss: 0.480597\n",
      "training: inv-scaling with Nesterov's momentum\n",
      "Training set score: 0.830000\n",
      "Training set loss: 0.481199\n",
      "training: adam\n",
      "Training set score: 0.850000\n",
      "Training set loss: 0.291343\n"
     ]
    }
   ],
   "source": [
    "fig, axes = plt.subplots(2, 2, figsize=(15, 10))\n",
    "# load / generate some toy datasets\n",
    "iris = datasets.load_iris()\n",
    "digits = datasets.load_digits()\n",
    "data_sets = [(iris.data, iris.target),\n",
    "             (digits.data, digits.target),\n",
    "             datasets.make_circles(noise=0.2, factor=0.5, random_state=1),\n",
    "             datasets.make_moons(noise=0.3, random_state=0)]\n",
    "\n",
    "for ax, data, name in zip(axes.ravel(), data_sets, ['iris', 'digits',\n",
    "                                                    'circles', 'moons']):\n",
    "    plot_on_dataset(*data, ax=ax, name=name)\n",
    "\n",
    "fig.legend(ax.get_lines(), labels=labels, ncol=3, loc=\"upper center\")\n",
    "plt.show()"
   ]
  },
  {
   "cell_type": "code",
   "execution_count": 18,
   "metadata": {
    "collapsed": false
   },
   "outputs": [
    {
     "data": {
      "text/plain": [
       "{'DESCR': \"Optical Recognition of Handwritten Digits Data Set\\n===================================================\\n\\nNotes\\n-----\\nData Set Characteristics:\\n    :Number of Instances: 5620\\n    :Number of Attributes: 64\\n    :Attribute Information: 8x8 image of integer pixels in the range 0..16.\\n    :Missing Attribute Values: None\\n    :Creator: E. Alpaydin (alpaydin '@' boun.edu.tr)\\n    :Date: July; 1998\\n\\nThis is a copy of the test set of the UCI ML hand-written digits datasets\\nhttp://archive.ics.uci.edu/ml/datasets/Optical+Recognition+of+Handwritten+Digits\\n\\nThe data set contains images of hand-written digits: 10 classes where\\neach class refers to a digit.\\n\\nPreprocessing programs made available by NIST were used to extract\\nnormalized bitmaps of handwritten digits from a preprinted form. From a\\ntotal of 43 people, 30 contributed to the training set and different 13\\nto the test set. 32x32 bitmaps are divided into nonoverlapping blocks of\\n4x4 and the number of on pixels are counted in each block. This generates\\nan input matrix of 8x8 where each element is an integer in the range\\n0..16. This reduces dimensionality and gives invariance to small\\ndistortions.\\n\\nFor info on NIST preprocessing routines, see M. D. Garris, J. L. Blue, G.\\nT. Candela, D. L. Dimmick, J. Geist, P. J. Grother, S. A. Janet, and C.\\nL. Wilson, NIST Form-Based Handprint Recognition System, NISTIR 5469,\\n1994.\\n\\nReferences\\n----------\\n  - C. Kaynak (1995) Methods of Combining Multiple Classifiers and Their\\n    Applications to Handwritten Digit Recognition, MSc Thesis, Institute of\\n    Graduate Studies in Science and Engineering, Bogazici University.\\n  - E. Alpaydin, C. Kaynak (1998) Cascading Classifiers, Kybernetika.\\n  - Ken Tang and Ponnuthurai N. Suganthan and Xi Yao and A. Kai Qin.\\n    Linear dimensionalityreduction using relevance weighted LDA. School of\\n    Electrical and Electronic Engineering Nanyang Technological University.\\n    2005.\\n  - Claudio Gentile. A New Approximate Maximal Margin Classification\\n    Algorithm. NIPS. 2000.\\n\",\n",
       " 'data': array([[  0.,   0.,   5., ...,   0.,   0.,   0.],\n",
       "        [  0.,   0.,   0., ...,  10.,   0.,   0.],\n",
       "        [  0.,   0.,   0., ...,  16.,   9.,   0.],\n",
       "        ..., \n",
       "        [  0.,   0.,   1., ...,   6.,   0.,   0.],\n",
       "        [  0.,   0.,   2., ...,  12.,   0.,   0.],\n",
       "        [  0.,   0.,  10., ...,  12.,   1.,   0.]]),\n",
       " 'images': array([[[  0.,   0.,   5., ...,   1.,   0.,   0.],\n",
       "         [  0.,   0.,  13., ...,  15.,   5.,   0.],\n",
       "         [  0.,   3.,  15., ...,  11.,   8.,   0.],\n",
       "         ..., \n",
       "         [  0.,   4.,  11., ...,  12.,   7.,   0.],\n",
       "         [  0.,   2.,  14., ...,  12.,   0.,   0.],\n",
       "         [  0.,   0.,   6., ...,   0.,   0.,   0.]],\n",
       " \n",
       "        [[  0.,   0.,   0., ...,   5.,   0.,   0.],\n",
       "         [  0.,   0.,   0., ...,   9.,   0.,   0.],\n",
       "         [  0.,   0.,   3., ...,   6.,   0.,   0.],\n",
       "         ..., \n",
       "         [  0.,   0.,   1., ...,   6.,   0.,   0.],\n",
       "         [  0.,   0.,   1., ...,   6.,   0.,   0.],\n",
       "         [  0.,   0.,   0., ...,  10.,   0.,   0.]],\n",
       " \n",
       "        [[  0.,   0.,   0., ...,  12.,   0.,   0.],\n",
       "         [  0.,   0.,   3., ...,  14.,   0.,   0.],\n",
       "         [  0.,   0.,   8., ...,  16.,   0.,   0.],\n",
       "         ..., \n",
       "         [  0.,   9.,  16., ...,   0.,   0.,   0.],\n",
       "         [  0.,   3.,  13., ...,  11.,   5.,   0.],\n",
       "         [  0.,   0.,   0., ...,  16.,   9.,   0.]],\n",
       " \n",
       "        ..., \n",
       "        [[  0.,   0.,   1., ...,   1.,   0.,   0.],\n",
       "         [  0.,   0.,  13., ...,   2.,   1.,   0.],\n",
       "         [  0.,   0.,  16., ...,  16.,   5.,   0.],\n",
       "         ..., \n",
       "         [  0.,   0.,  16., ...,  15.,   0.,   0.],\n",
       "         [  0.,   0.,  15., ...,  16.,   0.,   0.],\n",
       "         [  0.,   0.,   2., ...,   6.,   0.,   0.]],\n",
       " \n",
       "        [[  0.,   0.,   2., ...,   0.,   0.,   0.],\n",
       "         [  0.,   0.,  14., ...,  15.,   1.,   0.],\n",
       "         [  0.,   4.,  16., ...,  16.,   7.,   0.],\n",
       "         ..., \n",
       "         [  0.,   0.,   0., ...,  16.,   2.,   0.],\n",
       "         [  0.,   0.,   4., ...,  16.,   2.,   0.],\n",
       "         [  0.,   0.,   5., ...,  12.,   0.,   0.]],\n",
       " \n",
       "        [[  0.,   0.,  10., ...,   1.,   0.,   0.],\n",
       "         [  0.,   2.,  16., ...,   1.,   0.,   0.],\n",
       "         [  0.,   0.,  15., ...,  15.,   0.,   0.],\n",
       "         ..., \n",
       "         [  0.,   4.,  16., ...,  16.,   6.,   0.],\n",
       "         [  0.,   8.,  16., ...,  16.,   8.,   0.],\n",
       "         [  0.,   1.,   8., ...,  12.,   1.,   0.]]]),\n",
       " 'target': array([0, 1, 2, ..., 8, 9, 8]),\n",
       " 'target_names': array([0, 1, 2, 3, 4, 5, 6, 7, 8, 9])}"
      ]
     },
     "execution_count": 18,
     "metadata": {},
     "output_type": "execute_result"
    }
   ],
   "source": [
    "digits"
   ]
  },
  {
   "cell_type": "code",
   "execution_count": 2,
   "metadata": {
    "collapsed": false
   },
   "outputs": [],
   "source": [
    "a = {'solver_4': {'learning_rate': 'invscaling', 'learning_rate_init': 0.2, 'momentum': 0.0, 'solver': 'sgd'}, 'solver_5': {'nesterovs_momentum': True, 'solver': 'sgd', 'learning_rate': 'invscaling', 'label': 'inv-scaling with momentum', 'momentum': 0.9, 'learning_rate_init': 0.2}, 'solver_6': {'nesterovs_momentum': False, 'solver': 'sgd', 'learning_rate': 'invscaling', 'label': \"inv-scaling with Nesterov's momentum\", 'momentum': 0.9, 'learning_rate_init': 0.2}, 'solver_7': {'label': 'adam', 'learning_rate_init': 0.1, 'solver': 'adam'}, 'solver_1': {'learning_rate': 'constant', 'label': 'constant learning-rate', 'learning_rate_init': 0.2, 'momentum': 0.0, 'solver': 'sgd'}, 'solver_2': {'nesterovs_momentum': False, 'solver': 'sgd', 'learning_rate': 'constant', 'label': 'constant with momentum', 'momentum': 0.9, 'learning_rate_init': 0.2}, 'solver_3': {'nesterovs_momentum': True, 'solver': 'sgd', 'learning_rate': 'constant', 'label': \"constant with Nesterov's momentum\", 'momentum': 0.9, 'learning_rate_init': 0.2}}\n"
   ]
  },
  {
   "cell_type": "code",
   "execution_count": 5,
   "metadata": {
    "collapsed": false
   },
   "outputs": [
    {
     "data": {
      "text/plain": [
       "{'label': 'constant learning-rate',\n",
       " 'learning_rate': 'constant',\n",
       " 'learning_rate_init': 0.2,\n",
       " 'momentum': 0.0,\n",
       " 'solver': 'sgd'}"
      ]
     },
     "execution_count": 5,
     "metadata": {},
     "output_type": "execute_result"
    }
   ],
   "source": [
    "a['solver_1']"
   ]
  },
  {
   "cell_type": "code",
   "execution_count": 9,
   "metadata": {
    "collapsed": true
   },
   "outputs": [],
   "source": [
    "a = {'solver_4': {'learning_rate': 'invscaling', 'label': 'inv-scaling learning-rate', 'learning_rate_init': 0.2, 'momentum': 0.0, 'solver': 'sgd'}, 'solver_5': {'nesterovs_momentum': True, 'solver': 'sgd', 'learning_rate': 'invscaling', 'label': 'inv-scaling with momentum', 'momentum': 0.9, 'learning_rate_init': 0.2}, 'solver_6': {'nesterovs_momentum': False, 'solver': 'sgd', 'learning_rate': 'invscaling', 'label': \"inv-scaling with Nesterov's momentum\", 'momentum': 0.9, 'learning_rate_init': 0.2}, 'solver_7': {'label': 'adam', 'learning_rate_init': 0.1, 'solver': 'adam'}, 'solver_1': {'learning_rate': 'constant', 'label': 'constant learning-rate', 'learning_rate_init': 0.2, 'momentum': 0.0, 'solver': 'sgd'}, 'solver_2': {'nesterovs_momentum': False, 'solver': 'sgd', 'learning_rate': 'constant', 'label': 'constant with momentum', 'momentum': 0.9, 'learning_rate_init': 0.2}, 'solver_3': {'nesterovs_momentum': True, 'solver': 'sgd', 'learning_rate': 'constant', 'label': \"constant with Nesterov's momentum\", 'momentum': 0.9, 'learning_rate_init': 0.2}}\n",
    "a['solver_1']['clf'] = 'test'"
   ]
  },
  {
   "cell_type": "code",
   "execution_count": 10,
   "metadata": {
    "collapsed": false
   },
   "outputs": [
    {
     "data": {
      "text/plain": [
       "{'clf': 'test',\n",
       " 'label': 'constant learning-rate',\n",
       " 'learning_rate': 'constant',\n",
       " 'learning_rate_init': 0.2,\n",
       " 'momentum': 0.0,\n",
       " 'solver': 'sgd'}"
      ]
     },
     "execution_count": 10,
     "metadata": {},
     "output_type": "execute_result"
    }
   ],
   "source": [
    "a['solver_1']"
   ]
  },
  {
   "cell_type": "code",
   "execution_count": 11,
   "metadata": {
    "collapsed": false
   },
   "outputs": [
    {
     "data": {
      "text/plain": [
       "{'solver_1': {'clf': 'test',\n",
       "  'label': 'constant learning-rate',\n",
       "  'learning_rate': 'constant',\n",
       "  'learning_rate_init': 0.2,\n",
       "  'momentum': 0.0,\n",
       "  'solver': 'sgd'},\n",
       " 'solver_2': {'label': 'constant with momentum',\n",
       "  'learning_rate': 'constant',\n",
       "  'learning_rate_init': 0.2,\n",
       "  'momentum': 0.9,\n",
       "  'nesterovs_momentum': False,\n",
       "  'solver': 'sgd'},\n",
       " 'solver_3': {'label': \"constant with Nesterov's momentum\",\n",
       "  'learning_rate': 'constant',\n",
       "  'learning_rate_init': 0.2,\n",
       "  'momentum': 0.9,\n",
       "  'nesterovs_momentum': True,\n",
       "  'solver': 'sgd'},\n",
       " 'solver_4': {'label': 'inv-scaling learning-rate',\n",
       "  'learning_rate': 'invscaling',\n",
       "  'learning_rate_init': 0.2,\n",
       "  'momentum': 0.0,\n",
       "  'solver': 'sgd'},\n",
       " 'solver_5': {'label': 'inv-scaling with momentum',\n",
       "  'learning_rate': 'invscaling',\n",
       "  'learning_rate_init': 0.2,\n",
       "  'momentum': 0.9,\n",
       "  'nesterovs_momentum': True,\n",
       "  'solver': 'sgd'},\n",
       " 'solver_6': {'label': \"inv-scaling with Nesterov's momentum\",\n",
       "  'learning_rate': 'invscaling',\n",
       "  'learning_rate_init': 0.2,\n",
       "  'momentum': 0.9,\n",
       "  'nesterovs_momentum': False,\n",
       "  'solver': 'sgd'},\n",
       " 'solver_7': {'label': 'adam', 'learning_rate_init': 0.1, 'solver': 'adam'}}"
      ]
     },
     "execution_count": 11,
     "metadata": {},
     "output_type": "execute_result"
    }
   ],
   "source": [
    "a"
   ]
  },
  {
   "cell_type": "code",
   "execution_count": 12,
   "metadata": {
    "collapsed": false
   },
   "outputs": [
    {
     "data": {
      "text/plain": [
       "{'clf': 'test',\n",
       " 'label': 'constant learning-rate',\n",
       " 'learning_rate': 'constant',\n",
       " 'learning_rate_init': 0.2,\n",
       " 'momentum': 0.0,\n",
       " 'solver': 'sgd'}"
      ]
     },
     "execution_count": 12,
     "metadata": {},
     "output_type": "execute_result"
    }
   ],
   "source": [
    "a['solver_1']"
   ]
  },
  {
   "cell_type": "code",
   "execution_count": 9,
   "metadata": {
    "collapsed": true
   },
   "outputs": [],
   "source": [
    "a ={'solver_9': {'clfParam': {'solver': 'sgd', 'activation': 'tanh', 'max_iter': 1000, 'momentum': 0.0, 'learning_rate': 'adaptive', 'learning_rate_init': 0.2}, 'clf': 'test', 'otherParam': {'trained_classifier': 'clfName', 'label': 'constant learning-rate-adaptive-tanh'}}}\n",
    "\n"
   ]
  },
  {
   "cell_type": "code",
   "execution_count": 10,
   "metadata": {
    "collapsed": false
   },
   "outputs": [
    {
     "data": {
      "text/plain": [
       "{'solver_9': {'clf': 'test',\n",
       "  'clfParam': {'activation': 'tanh',\n",
       "   'learning_rate': 'adaptive',\n",
       "   'learning_rate_init': 0.2,\n",
       "   'max_iter': 1000,\n",
       "   'momentum': 0.0,\n",
       "   'solver': 'sgd'},\n",
       "  'otherParam': {'label': 'constant learning-rate-adaptive-tanh',\n",
       "   'trained_classifier': 'clfName'}}}"
      ]
     },
     "execution_count": 10,
     "metadata": {},
     "output_type": "execute_result"
    }
   ],
   "source": [
    "a"
   ]
  },
  {
   "cell_type": "code",
   "execution_count": 4,
   "metadata": {
    "collapsed": false
   },
   "outputs": [],
   "source": [
    "b = 'clf_test1_test2_float'"
   ]
  },
  {
   "cell_type": "code",
   "execution_count": 5,
   "metadata": {
    "collapsed": true
   },
   "outputs": [],
   "source": [
    "c = b.split('_')"
   ]
  },
  {
   "cell_type": "code",
   "execution_count": 8,
   "metadata": {
    "collapsed": false
   },
   "outputs": [
    {
     "data": {
      "text/plain": [
       "'clf'"
      ]
     },
     "execution_count": 8,
     "metadata": {},
     "output_type": "execute_result"
    }
   ],
   "source": [
    "c[0]"
   ]
  },
  {
   "cell_type": "code",
   "execution_count": 52,
   "metadata": {
    "collapsed": false
   },
   "outputs": [],
   "source": [
    "a = '20,23' "
   ]
  },
  {
   "cell_type": "code",
   "execution_count": 54,
   "metadata": {
    "collapsed": false
   },
   "outputs": [
    {
     "data": {
      "text/plain": [
       "(20, 23)"
      ]
     },
     "execution_count": 54,
     "metadata": {},
     "output_type": "execute_result"
    }
   ],
   "source": [
    "tuple([int(i) for i in a.split(',')])"
   ]
  },
  {
   "cell_type": "code",
   "execution_count": 34,
   "metadata": {
    "collapsed": false
   },
   "outputs": [
    {
     "data": {
      "text/plain": [
       "('2', '0', ',')"
      ]
     },
     "execution_count": 34,
     "metadata": {},
     "output_type": "execute_result"
    }
   ],
   "source": [
    "tuple(a)"
   ]
  },
  {
   "cell_type": "code",
   "execution_count": null,
   "metadata": {
    "collapsed": true
   },
   "outputs": [],
   "source": []
  }
 ],
 "metadata": {
  "kernelspec": {
   "display_name": "Python 2",
   "language": "python",
   "name": "python2"
  },
  "language_info": {
   "codemirror_mode": {
    "name": "ipython",
    "version": 2
   },
   "file_extension": ".py",
   "mimetype": "text/x-python",
   "name": "python",
   "nbconvert_exporter": "python",
   "pygments_lexer": "ipython2",
   "version": "2.7.13"
  },
  "toc": {
   "toc_cell": true,
   "toc_number_sections": false,
   "toc_threshold": "2",
   "toc_window_display": true
  }
 },
 "nbformat": 4,
 "nbformat_minor": 0
}
